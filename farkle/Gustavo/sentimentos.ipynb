{
 "cells": [
  {
   "cell_type": "code",
   "execution_count": 1,
   "metadata": {},
   "outputs": [],
   "source": [
    "import pandas as pd\n",
    "import numpy as np\n",
    "import json \n",
    "from unidecode import unidecode\n",
    "from textblob import TextBlob"
   ]
  },
  {
   "cell_type": "markdown",
   "metadata": {},
   "source": [
    "## Lendo Dados"
   ]
  },
  {
   "cell_type": "code",
   "execution_count": 2,
   "metadata": {},
   "outputs": [],
   "source": [
    "js = np.array(json.load(open('../hackathon/opinioes.json')))\n",
    "df_opinioes = pd.DataFrame.from_dict(js)\n",
    "df = pd.read_csv('../hackathon/notas.csv',sep=';')"
   ]
  },
  {
   "cell_type": "code",
   "execution_count": 8,
   "metadata": {},
   "outputs": [
    {
     "data": {
      "text/plain": [
       "79935"
      ]
     },
     "execution_count": 8,
     "metadata": {},
     "output_type": "execute_result"
    }
   ],
   "source": [
    "len(df)"
   ]
  },
  {
   "cell_type": "code",
   "execution_count": 3,
   "metadata": {},
   "outputs": [
    {
     "data": {
      "text/html": [
       "<div>\n",
       "<style scoped>\n",
       "    .dataframe tbody tr th:only-of-type {\n",
       "        vertical-align: middle;\n",
       "    }\n",
       "\n",
       "    .dataframe tbody tr th {\n",
       "        vertical-align: top;\n",
       "    }\n",
       "\n",
       "    .dataframe thead th {\n",
       "        text-align: right;\n",
       "    }\n",
       "</style>\n",
       "<table border=\"1\" class=\"dataframe\">\n",
       "  <thead>\n",
       "    <tr style=\"text-align: right;\">\n",
       "      <th></th>\n",
       "      <th>0</th>\n",
       "      <th>1</th>\n",
       "      <th>2</th>\n",
       "      <th>3</th>\n",
       "      <th>4</th>\n",
       "      <th>5</th>\n",
       "      <th>6</th>\n",
       "      <th>7</th>\n",
       "      <th>8</th>\n",
       "      <th>9</th>\n",
       "    </tr>\n",
       "  </thead>\n",
       "  <tbody>\n",
       "    <tr>\n",
       "      <th>0</th>\n",
       "      <td>e2b9dc08</td>\n",
       "      <td>\"MELHOR POPULAR DO MERCADO ATÉ 2012\"</td>\n",
       "      <td>Chevrolet Celta LT 1.0 2011/2012</td>\n",
       "      <td>João - Brasília DF</td>\n",
       "      <td>Dono há 6 anos - 35.200 kmCarro anterior: Fiat...</td>\n",
       "      <td>Prós:ECONOMIA DE COMBUSTÍVEL, PEÇAS BARATAS, R...</td>\n",
       "      <td>Contras:UM POUCO BAIXO.. AS VEZES QUANDO ESTÁ ...</td>\n",
       "      <td>Defeitos apresentados:NENHUM</td>\n",
       "      <td>Opinião Geral:O CARRO É 10 ESTOU COM ELE A 7 A...</td>\n",
       "      <td>09/03/2018 17:40:00</td>\n",
       "    </tr>\n",
       "    <tr>\n",
       "      <th>1</th>\n",
       "      <td>3b9dcf63</td>\n",
       "      <td>\"Ótimo carro a um custo baixo!\"</td>\n",
       "      <td>Chevrolet Celta LT 1.0 2015/2015</td>\n",
       "      <td>Hugo - São Pedro SP</td>\n",
       "      <td>Dono há 3 anos - 59.000 kmCarro anterior: Chev...</td>\n",
       "      <td>Prós:Motor potente pra um carro 1.0, sem deixa...</td>\n",
       "      <td>Contras:Saiu de linha</td>\n",
       "      <td>Defeitos apresentados:Nenhum</td>\n",
       "      <td>Opinião Geral:Este é o segundo celta que compr...</td>\n",
       "      <td>02/03/2018 21:27:00</td>\n",
       "    </tr>\n",
       "    <tr>\n",
       "      <th>2</th>\n",
       "      <td>9f62a709</td>\n",
       "      <td>\"Excelente!\"</td>\n",
       "      <td>Chevrolet Celta Life 1.0 2004/2005</td>\n",
       "      <td>Ivan - Salvador BA</td>\n",
       "      <td>Dono há menos de 1 ano - 80.000 kmCarro anteri...</td>\n",
       "      <td>Prós:Tamanho[cabe em qualquer vaga],excelente ...</td>\n",
       "      <td>Contras:Nao tem. Levando em conta que o carro ...</td>\n",
       "      <td>Defeitos apresentados:Até agora nenhum. Já fiz...</td>\n",
       "      <td>Opinião Geral:Recomendo: carro valente, relati...</td>\n",
       "      <td>27/02/2018 23:14:00</td>\n",
       "    </tr>\n",
       "    <tr>\n",
       "      <th>3</th>\n",
       "      <td>0e6c8d29</td>\n",
       "      <td>\"Rapido e economico\"</td>\n",
       "      <td>Chevrolet Celta LT 1.0 2012/2013</td>\n",
       "      <td>Gabriel - Porto Alegre RS</td>\n",
       "      <td>Dono há 3 anos - 89.000 kmCarro anterior: Volk...</td>\n",
       "      <td>Prós:Carro extremamente confiavel, so fazer a ...</td>\n",
       "      <td>Contras:Acabamento do carro é RUSTICO bem mal ...</td>\n",
       "      <td>Defeitos apresentados:nada o carro é valente</td>\n",
       "      <td>Opinião Geral:Ja passei ate por trilhas onde c...</td>\n",
       "      <td>18/02/2018 12:32:00</td>\n",
       "    </tr>\n",
       "    <tr>\n",
       "      <th>4</th>\n",
       "      <td>3c958631</td>\n",
       "      <td>\"Carro honesto.\"</td>\n",
       "      <td>Chevrolet Celta Life 1.0 2007/2008</td>\n",
       "      <td>Deleon - Brasília DF</td>\n",
       "      <td>Dono há 7 anos - 150.247 kmCarro anterior: Vol...</td>\n",
       "      <td>Prós:Desempenho[para 1.0], manutenção barata, ...</td>\n",
       "      <td>Contras:Meio duro, pouco espaço. Motor grita m...</td>\n",
       "      <td>Defeitos apresentados:Bomba dágua.</td>\n",
       "      <td>Opinião Geral:Carro honesto. Para primeiro vei...</td>\n",
       "      <td>04/02/2018 21:19:00</td>\n",
       "    </tr>\n",
       "  </tbody>\n",
       "</table>\n",
       "</div>"
      ],
      "text/plain": [
       "          0                                     1  \\\n",
       "0  e2b9dc08  \"MELHOR POPULAR DO MERCADO ATÉ 2012\"   \n",
       "1  3b9dcf63       \"Ótimo carro a um custo baixo!\"   \n",
       "2  9f62a709                          \"Excelente!\"   \n",
       "3  0e6c8d29                  \"Rapido e economico\"   \n",
       "4  3c958631                      \"Carro honesto.\"   \n",
       "\n",
       "                                    2                          3  \\\n",
       "0    Chevrolet Celta LT 1.0 2011/2012         João - Brasília DF   \n",
       "1    Chevrolet Celta LT 1.0 2015/2015        Hugo - São Pedro SP   \n",
       "2  Chevrolet Celta Life 1.0 2004/2005         Ivan - Salvador BA   \n",
       "3    Chevrolet Celta LT 1.0 2012/2013  Gabriel - Porto Alegre RS   \n",
       "4  Chevrolet Celta Life 1.0 2007/2008       Deleon - Brasília DF   \n",
       "\n",
       "                                                   4  \\\n",
       "0  Dono há 6 anos - 35.200 kmCarro anterior: Fiat...   \n",
       "1  Dono há 3 anos - 59.000 kmCarro anterior: Chev...   \n",
       "2  Dono há menos de 1 ano - 80.000 kmCarro anteri...   \n",
       "3  Dono há 3 anos - 89.000 kmCarro anterior: Volk...   \n",
       "4  Dono há 7 anos - 150.247 kmCarro anterior: Vol...   \n",
       "\n",
       "                                                   5  \\\n",
       "0  Prós:ECONOMIA DE COMBUSTÍVEL, PEÇAS BARATAS, R...   \n",
       "1  Prós:Motor potente pra um carro 1.0, sem deixa...   \n",
       "2  Prós:Tamanho[cabe em qualquer vaga],excelente ...   \n",
       "3  Prós:Carro extremamente confiavel, so fazer a ...   \n",
       "4  Prós:Desempenho[para 1.0], manutenção barata, ...   \n",
       "\n",
       "                                                   6  \\\n",
       "0  Contras:UM POUCO BAIXO.. AS VEZES QUANDO ESTÁ ...   \n",
       "1                              Contras:Saiu de linha   \n",
       "2  Contras:Nao tem. Levando em conta que o carro ...   \n",
       "3  Contras:Acabamento do carro é RUSTICO bem mal ...   \n",
       "4  Contras:Meio duro, pouco espaço. Motor grita m...   \n",
       "\n",
       "                                                   7  \\\n",
       "0                       Defeitos apresentados:NENHUM   \n",
       "1                       Defeitos apresentados:Nenhum   \n",
       "2  Defeitos apresentados:Até agora nenhum. Já fiz...   \n",
       "3       Defeitos apresentados:nada o carro é valente   \n",
       "4                 Defeitos apresentados:Bomba dágua.   \n",
       "\n",
       "                                                   8                    9  \n",
       "0  Opinião Geral:O CARRO É 10 ESTOU COM ELE A 7 A...  09/03/2018 17:40:00  \n",
       "1  Opinião Geral:Este é o segundo celta que compr...  02/03/2018 21:27:00  \n",
       "2  Opinião Geral:Recomendo: carro valente, relati...  27/02/2018 23:14:00  \n",
       "3  Opinião Geral:Ja passei ate por trilhas onde c...  18/02/2018 12:32:00  \n",
       "4  Opinião Geral:Carro honesto. Para primeiro vei...  04/02/2018 21:19:00  "
      ]
     },
     "execution_count": 3,
     "metadata": {},
     "output_type": "execute_result"
    }
   ],
   "source": [
    "df_opinioes.head()"
   ]
  },
  {
   "cell_type": "markdown",
   "metadata": {},
   "source": [
    "## Analise de sentimentos"
   ]
  },
  {
   "cell_type": "code",
   "execution_count": 93,
   "metadata": {},
   "outputs": [
    {
     "name": "stdout",
     "output_type": "stream",
     "text": [
      "[u'\"MELHOR POPULAR DO MERCADO AT\\xc9 2012\"', 'BEST POPULAR OF THE MARKET UNTIL 2012', 0.8, 0.6]\n",
      "[u'\"\\xd3timo carro a um custo baixo!\"', 'Great car at a low cost!', 0.4, 0.525]\n",
      "[u'\"Excelente!\"', 'Great!', 1.0, 0.75]\n",
      "[u'\"Rapido e economico\"', 'Fast and economical', 0.25, 0.75]\n",
      "[u'\"Carro honesto.\"', 'Honest car.', 0.6, 0.9]\n",
      "[u'\"Compacto mas valente\"', 'Compact but brave', 0.8, 1.0]\n",
      "CPU times: user 95.5 ms, sys: 205 ms, total: 301 ms\n",
      "Wall time: 1.29 s\n"
     ]
    }
   ],
   "source": [
    "%%time\n",
    "js_copy = js.copy()\n",
    "\n",
    "column = 1 #1,5,6,7,8\n",
    "opinioes = list()\n",
    "for i in range(js_copy.shape[0]):\n",
    "    #========================\n",
    "    #Ajustando Dados\n",
    "    \n",
    "    text = js_copy[i][column]\n",
    "    if column == 1:   #remove aspas\n",
    "        text = text[1:-1]\n",
    "    elif column == 5: #remove 'Pros:'\n",
    "        text = text[5:]\n",
    "    elif column == 6: #remove 'Contras:'\n",
    "        text = text[8:]\n",
    "    elif column == 7: #remove 'Defeitos apresentados:'\n",
    "        text = text[22:]\n",
    "    elif column == 8: #remove 'Opinião Geral:'\n",
    "        text = text[14:]\n",
    "    \n",
    "    #========================\n",
    "    #Analise de sentimentos\n",
    "    \n",
    "    try:\n",
    "        #tentando analisar direto\n",
    "        text = TextBlob(text)\n",
    "        text = TextBlob(str(text.translate(from_lang='pt',to='en')))\n",
    "        opinioes.append([js_copy[i][column],str(text),text.sentiment.polarity,text.sentiment.subjectivity])\n",
    "        print(opinioes[-1])\n",
    "    except:\n",
    "        try:\n",
    "            #removendo acentos para tentar analisar\n",
    "            text = TextBlob(unidecode(text))\n",
    "            text = TextBlob(str(text.translate(from_lang='pt',to='en')))\n",
    "            opinioes.append([js_copy[i][column],str(text),text.sentiment.polarity,text.sentiment.subjectivity])\n",
    "            print(opinioes[-1])\n",
    "        except:\n",
    "            opinioes.append([js_copy[i][column],str(text),None,None])\n",
    "            print('ERRO: ',js_copy[i][j])   \n"
   ]
  },
  {
   "cell_type": "markdown",
   "metadata": {},
   "source": [
    "## Salvando "
   ]
  },
  {
   "cell_type": "code",
   "execution_count": 83,
   "metadata": {},
   "outputs": [],
   "source": [
    "df_op = pd.DataFrame(opinioes,columns=['id','text','polarity','subjectivity'])\n",
    "df_op.to_csv('sent_'+str(column)+'.csv',index=False)"
   ]
  },
  {
   "cell_type": "code",
   "execution_count": null,
   "metadata": {},
   "outputs": [],
   "source": []
  }
 ],
 "metadata": {
  "kernelspec": {
   "display_name": "Python 3",
   "language": "python",
   "name": "python3"
  },
  "language_info": {
   "codemirror_mode": {
    "name": "ipython",
    "version": 2
   },
   "file_extension": ".py",
   "mimetype": "text/x-python",
   "name": "python",
   "nbconvert_exporter": "python",
   "pygments_lexer": "ipython2",
   "version": "2.7.14"
  }
 },
 "nbformat": 4,
 "nbformat_minor": 2
}
