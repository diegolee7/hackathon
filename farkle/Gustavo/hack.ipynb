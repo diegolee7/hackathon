{
 "cells": [
  {
   "cell_type": "code",
   "execution_count": 1,
   "metadata": {},
   "outputs": [],
   "source": [
    "%matplotlib inline\n",
    "import matplotlib.pyplot as plt\n",
    "import numpy as np\n",
    "import pandas as pd\n",
    "import ipywidgets as widgets\n",
    "from scipy.spatial import distance"
   ]
  },
  {
   "cell_type": "code",
   "execution_count": 2,
   "metadata": {},
   "outputs": [
    {
     "data": {
      "text/html": [
       "<div>\n",
       "<style scoped>\n",
       "    .dataframe tbody tr th:only-of-type {\n",
       "        vertical-align: middle;\n",
       "    }\n",
       "\n",
       "    .dataframe tbody tr th {\n",
       "        vertical-align: top;\n",
       "    }\n",
       "\n",
       "    .dataframe thead th {\n",
       "        text-align: right;\n",
       "    }\n",
       "</style>\n",
       "<table border=\"1\" class=\"dataframe\">\n",
       "  <thead>\n",
       "    <tr style=\"text-align: right;\">\n",
       "      <th></th>\n",
       "      <th>id</th>\n",
       "      <th>comentario</th>\n",
       "      <th>carro</th>\n",
       "      <th>ano</th>\n",
       "      <th>proprietario</th>\n",
       "      <th>cidade</th>\n",
       "      <th>estado</th>\n",
       "      <th>posse</th>\n",
       "      <th>quilometragem</th>\n",
       "      <th>anterior</th>\n",
       "      <th>...</th>\n",
       "      <th>Estabilidade</th>\n",
       "      <th>CustoBeneficio</th>\n",
       "      <th>Recomendacao</th>\n",
       "      <th>AvGeral</th>\n",
       "      <th>comentario ingles</th>\n",
       "      <th>comentario polaridade</th>\n",
       "      <th>comentario subjetividade</th>\n",
       "      <th>opiniao geral ingles</th>\n",
       "      <th>opiniao geral polaridade</th>\n",
       "      <th>opiniao geral subjetividade</th>\n",
       "    </tr>\n",
       "  </thead>\n",
       "  <tbody>\n",
       "    <tr>\n",
       "      <th>0</th>\n",
       "      <td>e2b9dc08</td>\n",
       "      <td>\"MELHOR POPULAR DO MERCADO ATÉ 2012\"</td>\n",
       "      <td>Chevrolet Celta LT 1.0</td>\n",
       "      <td>2011/2012</td>\n",
       "      <td>João</td>\n",
       "      <td>Brasília</td>\n",
       "      <td>DF</td>\n",
       "      <td>6</td>\n",
       "      <td>35200.0</td>\n",
       "      <td>Fiat Uno</td>\n",
       "      <td>...</td>\n",
       "      <td>10</td>\n",
       "      <td>10</td>\n",
       "      <td>10</td>\n",
       "      <td>8.600000</td>\n",
       "      <td>BEST POPULAR OF THE MARKET UNTIL 2012</td>\n",
       "      <td>9.0</td>\n",
       "      <td>0.600</td>\n",
       "      <td>THE CAR IS 10 I'M WITH IT TO 7 YEARS AND I WEN...</td>\n",
       "      <td>6.037500</td>\n",
       "      <td>4.731250</td>\n",
       "    </tr>\n",
       "    <tr>\n",
       "      <th>1</th>\n",
       "      <td>3b9dcf63</td>\n",
       "      <td>\"Ótimo carro a um custo baixo!\"</td>\n",
       "      <td>Chevrolet Celta LT 1.0</td>\n",
       "      <td>2015/2015</td>\n",
       "      <td>Hugo</td>\n",
       "      <td>São Pedro</td>\n",
       "      <td>SP</td>\n",
       "      <td>3</td>\n",
       "      <td>59000.0</td>\n",
       "      <td>Chevrolet Celta</td>\n",
       "      <td>...</td>\n",
       "      <td>8</td>\n",
       "      <td>10</td>\n",
       "      <td>10</td>\n",
       "      <td>8.666667</td>\n",
       "      <td>Great car at a low cost!</td>\n",
       "      <td>7.0</td>\n",
       "      <td>0.525</td>\n",
       "      <td>This is the second Celtic I buy 0km and I do n...</td>\n",
       "      <td>6.491667</td>\n",
       "      <td>5.533333</td>\n",
       "    </tr>\n",
       "  </tbody>\n",
       "</table>\n",
       "<p>2 rows × 39 columns</p>\n",
       "</div>"
      ],
      "text/plain": [
       "         id                            comentario                   carro  \\\n",
       "0  e2b9dc08  \"MELHOR POPULAR DO MERCADO ATÉ 2012\"  Chevrolet Celta LT 1.0   \n",
       "1  3b9dcf63       \"Ótimo carro a um custo baixo!\"  Chevrolet Celta LT 1.0   \n",
       "\n",
       "         ano proprietario     cidade estado posse  quilometragem  \\\n",
       "0  2011/2012         João   Brasília     DF     6        35200.0   \n",
       "1  2015/2015         Hugo  São Pedro     SP     3        59000.0   \n",
       "\n",
       "          anterior             ...              Estabilidade CustoBeneficio  \\\n",
       "0         Fiat Uno             ...                        10             10   \n",
       "1  Chevrolet Celta             ...                         8             10   \n",
       "\n",
       "  Recomendacao   AvGeral                      comentario ingles  \\\n",
       "0           10  8.600000  BEST POPULAR OF THE MARKET UNTIL 2012   \n",
       "1           10  8.666667               Great car at a low cost!   \n",
       "\n",
       "  comentario polaridade comentario subjetividade  \\\n",
       "0                   9.0                    0.600   \n",
       "1                   7.0                    0.525   \n",
       "\n",
       "                                opiniao geral ingles  \\\n",
       "0  THE CAR IS 10 I'M WITH IT TO 7 YEARS AND I WEN...   \n",
       "1  This is the second Celtic I buy 0km and I do n...   \n",
       "\n",
       "   opiniao geral polaridade  opiniao geral subjetividade  \n",
       "0                  6.037500                     4.731250  \n",
       "1                  6.491667                     5.533333  \n",
       "\n",
       "[2 rows x 39 columns]"
      ]
     },
     "execution_count": 2,
     "metadata": {},
     "output_type": "execute_result"
    }
   ],
   "source": [
    "df = pd.read_csv('../dados.csv',encoding = \"ISO-8859-1\")\n",
    "df.head(2)"
   ]
  },
  {
   "cell_type": "code",
   "execution_count": 11,
   "metadata": {},
   "outputs": [],
   "source": [
    "df = df.groupby(['carro']).mean()\n",
    "df = df.fillna(0)"
   ]
  },
  {
   "cell_type": "code",
   "execution_count": 14,
   "metadata": {},
   "outputs": [],
   "source": [
    "def show_df(df,Estilo=False, Acabamento=False, PosDir=False, Instrumentos=False,\n",
    "       Interior=False, Malas=False, Desempenho=False, Motor=False, Cambio=False, Freios=False,\n",
    "       Suspensao=False, Consumo=False, Estabilidade=False, CustoBeneficio=False,Recomendacao=False):\n",
    "    \n",
    "    #colunas de selecionadas\n",
    "    cols = ['AvGeral','comentario polaridade','opiniao geral polaridade']\n",
    "    if Estilo:\n",
    "        cols.append('Estilo')\n",
    "    if Acabamento:\n",
    "        cols.append('Acabamento')\n",
    "    if PosDir:\n",
    "        cols.append('PosDir')\n",
    "    if Instrumentos:\n",
    "        cols.append('Instrumentos')\n",
    "    if Interior:\n",
    "        cols.append('Interior')\n",
    "    if Malas:\n",
    "        cols.append('Malas')\n",
    "    if Desempenho:\n",
    "        cols.append('Desempenho')\n",
    "    if Motor:\n",
    "        cols.append('Motor')\n",
    "    if Cambio:\n",
    "        cols.append('Cambio')\n",
    "    if Freios:\n",
    "        cols.append('Freios')\n",
    "    if Suspensao:\n",
    "        cols.append('Suspensao')\n",
    "    if Consumo:\n",
    "        cols.append('Consumo')\n",
    "    if Estabilidade:\n",
    "        cols.append('Estabilidade')\n",
    "    if CustoBeneficio:\n",
    "        cols.append('CustoBeneficio')\n",
    "    if Recomendacao:\n",
    "        cols.append('Recomendacao')\n",
    "        \n",
    "    #criando coluna de recomendacoes e ordenando\n",
    "    df['indice recomendacao'] = df[cols].mean(axis=1)\n",
    "    #df = df.sort_values(['indice recomendacao'],ascending=False)\n",
    "    \n",
    "    # distancia euclidiana\n",
    "    dist_eu = list()\n",
    "    for index,rows in df.iterrows():\n",
    "        dist = distance.euclidean(rows[cols].values,[10]*len(cols))\n",
    "        dist_eu.append(dist)\n",
    "    df['distancia euclidiana'] = dist_eu\n",
    "    \n",
    "    #ordenando\n",
    "    df = df.sort_values(['distancia euclidiana'],ascending=True)\n",
    "    #df['distancia euclidiana'] \n",
    "    print(df[['indice recomendacao','distancia euclidiana']].head(5))"
   ]
  },
  {
   "cell_type": "markdown",
   "metadata": {},
   "source": [
    "## Resultados"
   ]
  },
  {
   "cell_type": "code",
   "execution_count": 15,
   "metadata": {},
   "outputs": [
    {
     "data": {
      "application/vnd.jupyter.widget-view+json": {
       "model_id": "711f77e84b8746e5b4cf792b59acfc17",
       "version_major": 2,
       "version_minor": 0
      },
      "text/html": [
       "<p>Failed to display Jupyter Widget of type <code>interactive</code>.</p>\n",
       "<p>\n",
       "  If you're reading this message in the Jupyter Notebook or JupyterLab Notebook, it may mean\n",
       "  that the widgets JavaScript is still loading. If this message persists, it\n",
       "  likely means that the widgets JavaScript library is either not installed or\n",
       "  not enabled. See the <a href=\"https://ipywidgets.readthedocs.io/en/stable/user_install.html\">Jupyter\n",
       "  Widgets Documentation</a> for setup instructions.\n",
       "</p>\n",
       "<p>\n",
       "  If you're reading this message in another frontend (for example, a static\n",
       "  rendering on GitHub or <a href=\"https://nbviewer.jupyter.org/\">NBViewer</a>),\n",
       "  it may mean that your frontend doesn't currently support widgets.\n",
       "</p>\n"
      ],
      "text/plain": [
       "interactive(children=(Checkbox(value=False, description=u'Estilo'), Checkbox(value=False, description=u'Acabamento'), Checkbox(value=False, description=u'PosDir'), Checkbox(value=False, description=u'Instrumentos'), Checkbox(value=False, description=u'Interior'), Checkbox(value=False, description=u'Malas'), Checkbox(value=False, description=u'Desempenho'), Checkbox(value=False, description=u'Motor'), Checkbox(value=False, description=u'Cambio'), Checkbox(value=False, description=u'Freios'), Checkbox(value=False, description=u'Suspensao'), Checkbox(value=False, description=u'Consumo'), Checkbox(value=False, description=u'Estabilidade'), Checkbox(value=False, description=u'CustoBeneficio'), Checkbox(value=False, description=u'Recomendacao'), Output()), _dom_classes=('widget-interact',))"
      ]
     },
     "metadata": {},
     "output_type": "display_data"
    }
   ],
   "source": [
    "interactive = widgets.interactive(show_df,df=widgets.fixed(df))\n",
    "interactive"
   ]
  },
  {
   "cell_type": "code",
   "execution_count": null,
   "metadata": {},
   "outputs": [],
   "source": []
  },
  {
   "cell_type": "code",
   "execution_count": null,
   "metadata": {},
   "outputs": [],
   "source": []
  }
 ],
 "metadata": {
  "kernelspec": {
   "display_name": "Python 3",
   "language": "python",
   "name": "python3"
  },
  "language_info": {
   "codemirror_mode": {
    "name": "ipython",
    "version": 2
   },
   "file_extension": ".py",
   "mimetype": "text/x-python",
   "name": "python",
   "nbconvert_exporter": "python",
   "pygments_lexer": "ipython2",
   "version": "2.7.14"
  }
 },
 "nbformat": 4,
 "nbformat_minor": 2
}
