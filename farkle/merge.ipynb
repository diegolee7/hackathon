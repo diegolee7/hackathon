{
 "cells": [
  {
   "cell_type": "code",
   "execution_count": 1,
   "metadata": {},
   "outputs": [],
   "source": [
    "#!/usr/bin/env python\n",
    "# -*- coding: utf-8 -*-\n",
    "import pandas as pd\n",
    "import numpy as np\n",
    "import json \n",
    "from unidecode import unidecode\n",
    "from textblob import TextBlob"
   ]
  },
  {
   "cell_type": "markdown",
   "metadata": {},
   "source": [
    "## Open"
   ]
  },
  {
   "cell_type": "code",
   "execution_count": 2,
   "metadata": {},
   "outputs": [],
   "source": [
    "df_op = pd.read_csv('Alisson/opinioes.csv')\n",
    "df_nt = pd.read_csv('Gabriel/notasUser.csv')\n",
    "df_st1 = pd.read_csv('Gustavo/sent_1.csv')\n",
    "#df_st5 = pd.read_csv('Gustavo/sent_5.csv')\n",
    "#df_st6 = pd.read_csv('Gustavo/sent_6.csv')\n",
    "#df_st7 = pd.read_csv('Gustavo/sent_7.csv')\n",
    "df_st8 = pd.read_csv('Gustavo/sent_8.csv')"
   ]
  },
  {
   "cell_type": "markdown",
   "metadata": {},
   "source": [
    "## Renomeando Colunas"
   ]
  },
  {
   "cell_type": "code",
   "execution_count": 3,
   "metadata": {},
   "outputs": [],
   "source": [
    "df_st1.columns = ['id','comentario ingles','comentario polaridade','comentario subjetividade']\n",
    "#df_st5.columns = ['id','pros ingles','pros polaridade','pros subjetividade']\n",
    "#df_st6.columns = ['id','contras ingles','contras polaridade','contras subjetividade']\n",
    "#df_st7.columns = ['id','defeitos ingles','defeitos polaridade','defeitos subjetividade']\n",
    "df_st8.columns = ['id','opiniao geral ingles','opiniao geral polaridade','opiniao geral subjetividade']"
   ]
  },
  {
   "cell_type": "markdown",
   "metadata": {},
   "source": [
    "## Merge"
   ]
  },
  {
   "cell_type": "code",
   "execution_count": 4,
   "metadata": {},
   "outputs": [],
   "source": [
    "df = pd.merge(df_op, df_nt, left_on='id',right_on='ID')\n",
    "df = pd.merge(df, df_st1, left_on='id',right_on='id')\n",
    "#df = pd.merge(df, df_st5, left_on='id',right_on='id')\n",
    "#df = pd.merge(df, df_st6, left_on='id',right_on='id')\n",
    "#df = pd.merge(df, df_st7, left_on='id',right_on='id')\n",
    "df = pd.merge(df, df_st8, left_on='id',right_on='id')"
   ]
  },
  {
   "cell_type": "markdown",
   "metadata": {},
   "source": [
    "## Normalizando"
   ]
  },
  {
   "cell_type": "markdown",
   "metadata": {},
   "source": [
    "$10*\\dfrac{(X-min)}{(max+min)}$"
   ]
  },
  {
   "cell_type": "code",
   "execution_count": 5,
   "metadata": {},
   "outputs": [],
   "source": [
    "df['comentario polaridade'] = 10*(df['comentario polaridade'] - df['comentario polaridade'].min())/(df['comentario polaridade'].max()-df['comentario polaridade'].min())\n",
    "df['comentario subjetividade'] = 10*(df['comentario subjetividade'] - df['comentario subjetividade'].min())/(df['comentario polaridade'].max()-df['comentario subjetividade'].min())\n",
    "df['opiniao geral polaridade'] = 10*(df['opiniao geral polaridade'] - df['opiniao geral polaridade'].min()) / (df['opiniao geral polaridade'].max() - df['opiniao geral polaridade'].min())\n",
    "df['opiniao geral subjetividade'] = 10*(df['opiniao geral subjetividade'] - df['opiniao geral subjetividade'].min()) / (df['opiniao geral subjetividade'].max() - df['opiniao geral subjetividade'].min())"
   ]
  },
  {
   "cell_type": "markdown",
   "metadata": {},
   "source": [
    "## Save"
   ]
  },
  {
   "cell_type": "code",
   "execution_count": 6,
   "metadata": {},
   "outputs": [],
   "source": [
    "df.to_csv('dados.csv',index=False)"
   ]
  },
  {
   "cell_type": "code",
   "execution_count": 7,
   "metadata": {},
   "outputs": [
    {
     "data": {
      "text/html": [
       "<div>\n",
       "<style scoped>\n",
       "    .dataframe tbody tr th:only-of-type {\n",
       "        vertical-align: middle;\n",
       "    }\n",
       "\n",
       "    .dataframe tbody tr th {\n",
       "        vertical-align: top;\n",
       "    }\n",
       "\n",
       "    .dataframe thead th {\n",
       "        text-align: right;\n",
       "    }\n",
       "</style>\n",
       "<table border=\"1\" class=\"dataframe\">\n",
       "  <thead>\n",
       "    <tr style=\"text-align: right;\">\n",
       "      <th></th>\n",
       "      <th>id</th>\n",
       "      <th>comentario</th>\n",
       "      <th>carro</th>\n",
       "      <th>ano</th>\n",
       "      <th>proprietario</th>\n",
       "      <th>cidade</th>\n",
       "      <th>estado</th>\n",
       "      <th>posse</th>\n",
       "      <th>quilometragem</th>\n",
       "      <th>anterior</th>\n",
       "      <th>...</th>\n",
       "      <th>Estabilidade</th>\n",
       "      <th>CustoBeneficio</th>\n",
       "      <th>Recomendacao</th>\n",
       "      <th>AvGeral</th>\n",
       "      <th>comentario ingles</th>\n",
       "      <th>comentario polaridade</th>\n",
       "      <th>comentario subjetividade</th>\n",
       "      <th>opiniao geral ingles</th>\n",
       "      <th>opiniao geral polaridade</th>\n",
       "      <th>opiniao geral subjetividade</th>\n",
       "    </tr>\n",
       "  </thead>\n",
       "  <tbody>\n",
       "    <tr>\n",
       "      <th>0</th>\n",
       "      <td>e2b9dc08</td>\n",
       "      <td>\"MELHOR POPULAR DO MERCADO AT� 2012\"</td>\n",
       "      <td>Chevrolet Celta LT 1.0</td>\n",
       "      <td>2011/2012</td>\n",
       "      <td>Jo�o</td>\n",
       "      <td>Bras�lia</td>\n",
       "      <td>DF</td>\n",
       "      <td>6</td>\n",
       "      <td>35200.0</td>\n",
       "      <td>Fiat Uno</td>\n",
       "      <td>...</td>\n",
       "      <td>10</td>\n",
       "      <td>10</td>\n",
       "      <td>10</td>\n",
       "      <td>8.600000</td>\n",
       "      <td>BEST POPULAR OF THE MARKET UNTIL 2012</td>\n",
       "      <td>9.00</td>\n",
       "      <td>0.600</td>\n",
       "      <td>THE CAR IS 10 I'M WITH IT TO 7 YEARS AND I WEN...</td>\n",
       "      <td>6.037500</td>\n",
       "      <td>4.731250</td>\n",
       "    </tr>\n",
       "    <tr>\n",
       "      <th>1</th>\n",
       "      <td>3b9dcf63</td>\n",
       "      <td>\"�timo carro a um custo baixo!\"</td>\n",
       "      <td>Chevrolet Celta LT 1.0</td>\n",
       "      <td>2015/2015</td>\n",
       "      <td>Hugo</td>\n",
       "      <td>S�o Pedro</td>\n",
       "      <td>SP</td>\n",
       "      <td>3</td>\n",
       "      <td>59000.0</td>\n",
       "      <td>Chevrolet Celta</td>\n",
       "      <td>...</td>\n",
       "      <td>8</td>\n",
       "      <td>10</td>\n",
       "      <td>10</td>\n",
       "      <td>8.666667</td>\n",
       "      <td>Great car at a low cost!</td>\n",
       "      <td>7.00</td>\n",
       "      <td>0.525</td>\n",
       "      <td>This is the second Celtic I buy 0km and I do n...</td>\n",
       "      <td>6.491667</td>\n",
       "      <td>5.533333</td>\n",
       "    </tr>\n",
       "    <tr>\n",
       "      <th>2</th>\n",
       "      <td>9f62a709</td>\n",
       "      <td>\"Excelente!\"</td>\n",
       "      <td>Chevrolet Celta Life 1.0</td>\n",
       "      <td>2004/2005</td>\n",
       "      <td>Ivan</td>\n",
       "      <td>Salvador</td>\n",
       "      <td>BA</td>\n",
       "      <td>1</td>\n",
       "      <td>80000.0</td>\n",
       "      <td>Primeiro carro</td>\n",
       "      <td>...</td>\n",
       "      <td>8</td>\n",
       "      <td>10</td>\n",
       "      <td>10</td>\n",
       "      <td>8.533333</td>\n",
       "      <td>Great!</td>\n",
       "      <td>10.00</td>\n",
       "      <td>0.750</td>\n",
       "      <td>I recommend: brave car, relatively comfortable...</td>\n",
       "      <td>6.837857</td>\n",
       "      <td>6.960714</td>\n",
       "    </tr>\n",
       "    <tr>\n",
       "      <th>3</th>\n",
       "      <td>0e6c8d29</td>\n",
       "      <td>\"Rapido e economico\"</td>\n",
       "      <td>Chevrolet Celta LT 1.0</td>\n",
       "      <td>2012/2013</td>\n",
       "      <td>Gabriel</td>\n",
       "      <td>Porto Alegre</td>\n",
       "      <td>RS</td>\n",
       "      <td>3</td>\n",
       "      <td>89000.0</td>\n",
       "      <td>Volkswagen Parati</td>\n",
       "      <td>...</td>\n",
       "      <td>10</td>\n",
       "      <td>9</td>\n",
       "      <td>10</td>\n",
       "      <td>8.533333</td>\n",
       "      <td>Fast and economical</td>\n",
       "      <td>6.25</td>\n",
       "      <td>0.750</td>\n",
       "      <td>I have already gone through trails where truck...</td>\n",
       "      <td>6.333333</td>\n",
       "      <td>7.083333</td>\n",
       "    </tr>\n",
       "    <tr>\n",
       "      <th>4</th>\n",
       "      <td>3c958631</td>\n",
       "      <td>\"Carro honesto.\"</td>\n",
       "      <td>Chevrolet Celta Life 1.0</td>\n",
       "      <td>2007/2008</td>\n",
       "      <td>Deleon</td>\n",
       "      <td>Bras�lia</td>\n",
       "      <td>DF</td>\n",
       "      <td>7</td>\n",
       "      <td>150247.0</td>\n",
       "      <td>Volkswagen Passat</td>\n",
       "      <td>...</td>\n",
       "      <td>9</td>\n",
       "      <td>8</td>\n",
       "      <td>9</td>\n",
       "      <td>7.066667</td>\n",
       "      <td>Honest car.</td>\n",
       "      <td>8.00</td>\n",
       "      <td>0.900</td>\n",
       "      <td>Honest car. For first vehicle, better than goa...</td>\n",
       "      <td>7.208333</td>\n",
       "      <td>5.375000</td>\n",
       "    </tr>\n",
       "  </tbody>\n",
       "</table>\n",
       "<p>5 rows × 39 columns</p>\n",
       "</div>"
      ],
      "text/plain": [
       "         id                            comentario                     carro  \\\n",
       "0  e2b9dc08  \"MELHOR POPULAR DO MERCADO AT� 2012\"    Chevrolet Celta LT 1.0   \n",
       "1  3b9dcf63       \"�timo carro a um custo baixo!\"    Chevrolet Celta LT 1.0   \n",
       "2  9f62a709                          \"Excelente!\"  Chevrolet Celta Life 1.0   \n",
       "3  0e6c8d29                  \"Rapido e economico\"    Chevrolet Celta LT 1.0   \n",
       "4  3c958631                      \"Carro honesto.\"  Chevrolet Celta Life 1.0   \n",
       "\n",
       "         ano proprietario        cidade estado posse  quilometragem  \\\n",
       "0  2011/2012         Jo�o      Bras�lia     DF     6        35200.0   \n",
       "1  2015/2015         Hugo     S�o Pedro     SP     3        59000.0   \n",
       "2  2004/2005         Ivan      Salvador     BA     1        80000.0   \n",
       "3  2012/2013      Gabriel  Porto Alegre     RS     3        89000.0   \n",
       "4  2007/2008       Deleon      Bras�lia     DF     7       150247.0   \n",
       "\n",
       "            anterior             ...              Estabilidade CustoBeneficio  \\\n",
       "0           Fiat Uno             ...                        10             10   \n",
       "1    Chevrolet Celta             ...                         8             10   \n",
       "2     Primeiro carro             ...                         8             10   \n",
       "3  Volkswagen Parati             ...                        10              9   \n",
       "4  Volkswagen Passat             ...                         9              8   \n",
       "\n",
       "  Recomendacao   AvGeral                      comentario ingles  \\\n",
       "0           10  8.600000  BEST POPULAR OF THE MARKET UNTIL 2012   \n",
       "1           10  8.666667               Great car at a low cost!   \n",
       "2           10  8.533333                                 Great!   \n",
       "3           10  8.533333                    Fast and economical   \n",
       "4            9  7.066667                            Honest car.   \n",
       "\n",
       "  comentario polaridade comentario subjetividade  \\\n",
       "0                  9.00                    0.600   \n",
       "1                  7.00                    0.525   \n",
       "2                 10.00                    0.750   \n",
       "3                  6.25                    0.750   \n",
       "4                  8.00                    0.900   \n",
       "\n",
       "                                opiniao geral ingles  \\\n",
       "0  THE CAR IS 10 I'M WITH IT TO 7 YEARS AND I WEN...   \n",
       "1  This is the second Celtic I buy 0km and I do n...   \n",
       "2  I recommend: brave car, relatively comfortable...   \n",
       "3  I have already gone through trails where truck...   \n",
       "4  Honest car. For first vehicle, better than goa...   \n",
       "\n",
       "   opiniao geral polaridade  opiniao geral subjetividade  \n",
       "0                  6.037500                     4.731250  \n",
       "1                  6.491667                     5.533333  \n",
       "2                  6.837857                     6.960714  \n",
       "3                  6.333333                     7.083333  \n",
       "4                  7.208333                     5.375000  \n",
       "\n",
       "[5 rows x 39 columns]"
      ]
     },
     "execution_count": 7,
     "metadata": {},
     "output_type": "execute_result"
    }
   ],
   "source": [
    "df.head()"
   ]
  },
  {
   "cell_type": "code",
   "execution_count": null,
   "metadata": {},
   "outputs": [],
   "source": []
  },
  {
   "cell_type": "code",
   "execution_count": null,
   "metadata": {},
   "outputs": [],
   "source": []
  },
  {
   "cell_type": "code",
   "execution_count": null,
   "metadata": {},
   "outputs": [],
   "source": []
  }
 ],
 "metadata": {
  "kernelspec": {
   "display_name": "Python 3",
   "language": "python",
   "name": "python3"
  },
  "language_info": {
   "codemirror_mode": {
    "name": "ipython",
    "version": 2
   },
   "file_extension": ".py",
   "mimetype": "text/x-python",
   "name": "python",
   "nbconvert_exporter": "python",
   "pygments_lexer": "ipython2",
   "version": "2.7.14"
  }
 },
 "nbformat": 4,
 "nbformat_minor": 2
}
